{
 "cells": [
  {
   "cell_type": "code",
   "execution_count": 163,
   "metadata": {},
   "outputs": [],
   "source": [
    "import pandas as pd\n",
    "import numpy as np\n",
    "import seaborn as sns\n",
    "import matplotlib.pyplot as plt\n",
    "from IPython.display import display"
   ]
  },
  {
   "cell_type": "code",
   "execution_count": 164,
   "metadata": {},
   "outputs": [],
   "source": [
    "df = pd.read_csv(\"diabetic_data.csv\")"
   ]
  },
  {
   "cell_type": "code",
   "execution_count": 187,
   "metadata": {},
   "outputs": [
    {
     "data": {
      "text/plain": [
       "(96642, 48)"
      ]
     },
     "execution_count": 187,
     "metadata": {},
     "output_type": "execute_result"
    }
   ],
   "source": [
    "df.shape"
   ]
  },
  {
   "cell_type": "markdown",
   "metadata": {},
   "source": [
    "Removing weight,age"
   ]
  },
  {
   "cell_type": "code",
   "execution_count": 166,
   "metadata": {},
   "outputs": [],
   "source": [
    "df = df.drop('weight', axis=1)\n",
    "df = df.drop('age', axis=1)"
   ]
  },
  {
   "cell_type": "markdown",
   "metadata": {},
   "source": [
    "Replacing ? with \"unknown\" and removing Nan values"
   ]
  },
  {
   "cell_type": "code",
   "execution_count": 167,
   "metadata": {},
   "outputs": [],
   "source": [
    "df['medical_specialty'] = df['medical_specialty'].replace('?', 'Unknown')\n",
    "df['payer_code'] = df['payer_code'].replace('?', 'Unknown')\n",
    "df['max_glu_serum'] = df['max_glu_serum'].replace(np.nan, 'Not-measured')\n",
    "df['A1Cresult'] = df['A1Cresult'].replace(np.nan, 'Not-measured')\n",
    "df.replace('?', np.nan, inplace=True)\n",
    "df.dropna(axis=0, how='any', inplace=True)"
   ]
  },
  {
   "cell_type": "markdown",
   "metadata": {},
   "source": [
    "Removing NAN values"
   ]
  },
  {
   "cell_type": "code",
   "execution_count": 186,
   "metadata": {},
   "outputs": [],
   "source": [
    "df.dropna(axis=0, how='any', inplace=True)"
   ]
  },
  {
   "cell_type": "markdown",
   "metadata": {},
   "source": [
    "Converting change,gender,diabetics_med to binary"
   ]
  },
  {
   "cell_type": "code",
   "execution_count": 1,
   "metadata": {},
   "outputs": [],
   "source": [
    "# df"
   ]
  },
  {
   "cell_type": "code",
   "execution_count": 171,
   "metadata": {},
   "outputs": [
    {
     "name": "stderr",
     "output_type": "stream",
     "text": [
      "/var/folders/63/_xq27w2j2ys29sqcy3mh092c0000gn/T/ipykernel_50106/2375431797.py:1: FutureWarning: Downcasting behavior in `replace` is deprecated and will be removed in a future version. To retain the old behavior, explicitly call `result.infer_objects(copy=False)`. To opt-in to the future behavior, set `pd.set_option('future.no_silent_downcasting', True)`\n",
      "  df['diabetesMed'] = df['diabetesMed'].replace({'Yes': 1, 'No': 0})\n"
     ]
    }
   ],
   "source": [
    "df['diabetesMed'] = df['diabetesMed'].replace({'Yes': 1, 'No': 0})"
   ]
  },
  {
   "cell_type": "code",
   "execution_count": null,
   "metadata": {},
   "outputs": [],
   "source": [
    "gender_mapping = {\"female\": 0, \"male\": 1}  # Modify the mapping as needed\n",
    "\n",
    "# Apply the mapping using a lambda function\n",
    "df['gender'] = df['gender'].map(gender_mapping)"
   ]
  },
  {
   "cell_type": "code",
   "execution_count": null,
   "metadata": {},
   "outputs": [],
   "source": [
    "df['change'] = df['change'].map({'Ch': 1, 'No': 0})"
   ]
  },
  {
   "cell_type": "markdown",
   "metadata": {},
   "source": [
    "Converting binary to string (AS,DI,AT)"
   ]
  },
  {
   "cell_type": "code",
   "execution_count": 172,
   "metadata": {},
   "outputs": [],
   "source": [
    "admission_type_mapping = {\n",
    "    1: 'Emergency',\n",
    "    2: 'Urgent',\n",
    "    3: 'Elective',\n",
    "    4: 'Newborn',\n",
    "    5: 'Not Available',\n",
    "    6: 'Not Mapped',\n",
    "    7: 'Trauma Center',\n",
    "}"
   ]
  },
  {
   "cell_type": "code",
   "execution_count": 173,
   "metadata": {},
   "outputs": [],
   "source": [
    "admission_source_mapping = {\n",
    "    1: 'Physician Referral',\n",
    "    2: 'Clinic Referral',\n",
    "    3: 'HMO Referral',\n",
    "    4: 'Transfer from a hospital',\n",
    "    5: 'Transfer from a Skilled Nursing Facility (SNF)',\n",
    "    6: 'Transfer from another health care facility',\n",
    "    7: 'Emergency Room',\n",
    "    8: 'Court/Law Enforcement',\n",
    "    9: 'Not Available',\n",
    "    10: 'Transfer from critical access hospital',\n",
    "    11: 'Normal Delivery',\n",
    "    12: 'Premature Delivery',\n",
    "    13: 'Sick Baby',\n",
    "    14: 'Extramural Birth',\n",
    "    17: 'Not Mapped',\n",
    "    19: 'Readmission to Same Home Health Agency',\n",
    "    21: 'Unknown',\n",
    "    22: 'Transfer from hospital inpt/same facility result in a separate claim',\n",
    "    23: 'Born inside this hospital',\n",
    "    24: 'Born outside this hospital',\n",
    "    25: 'Transfer from Ambulatory Surgery Center',\n",
    "    26: 'Transfer from Hospice'\n",
    "}\n"
   ]
  },
  {
   "cell_type": "code",
   "execution_count": 174,
   "metadata": {},
   "outputs": [],
   "source": [
    "discharge_disposition_mapping = {\n",
    "    1: 'Discharged to home',\n",
    "    2: 'Discharged/transferred to another short term hospital',\n",
    "    3: 'Discharged/transferred to SNF',\n",
    "    4: 'Discharged/transferred to ICF',\n",
    "    5: 'Discharged/transferred to another type of inpatient care institution',\n",
    "    6: 'Discharged/transferred to home with home health service',\n",
    "    7: 'Left AMA',\n",
    "    8: 'Discharged/transferred to home under care of Home IV provider',\n",
    "    9: 'Admitted as an inpatient to this hospital',\n",
    "    10: 'Neonate discharged to another hospital for neonatal aftercare',\n",
    "    11: 'Expired',\n",
    "    12: 'Still patient or expected to return for outpatient services',\n",
    "    13: 'Hospice / home',\n",
    "    14: 'Hospice / medical facility',\n",
    "    15: 'Discharged/transferred within this institution to Medicare approved swing bed',\n",
    "    16: 'Discharged/transferred/referred another institution for outpatient services',\n",
    "    17: 'Transferred/referred to this institution for outpatient services',\n",
    "    18: 'Not Mapped',\n",
    "    19: 'Expired at home. Medicaid only, hospice.',\n",
    "    20: 'Expired in a medical facility. Medicaid only, hospice.',\n",
    "    21: 'Expired, place unknown. Medicaid only, hospice.',\n",
    "    22: 'Discharged/transferred to another rehab fac including rehab units of a hospital.',\n",
    "    23: 'Discharged/transferred to a long term care hospital.',\n",
    "    24: 'Discharged/transferred to a nursing facility certified under Medicaid but not certified under Medicare.',\n",
    "    27: 'Discharged/transferred to a federal health care facility.',\n",
    "    28: 'Discharged/transferred/referred to a psychiatric hospital of psychiatric distinct part unit of a hospital',\n",
    "    29: 'Discharged/transferred to a Critical Access Hospital (CAH).',\n",
    "    30: 'Discharged/transferred to another Type of Health Care Institution not Defined Elsewhere'\n",
    "}\n"
   ]
  },
  {
   "cell_type": "code",
   "execution_count": 175,
   "metadata": {},
   "outputs": [],
   "source": [
    "df['admission_type_id'] = df['admission_type_id'].map(admission_type_mapping)\n",
    "df['admission_source_id'] = df['admission_source_id'].map(admission_source_mapping)\n",
    "df['discharge_disposition_id'] = df['discharge_disposition_id'].map(discharge_disposition_mapping)"
   ]
  },
  {
   "cell_type": "markdown",
   "metadata": {},
   "source": [
    "Convering target value to binary"
   ]
  },
  {
   "cell_type": "code",
   "execution_count": 180,
   "metadata": {},
   "outputs": [],
   "source": [
    "df['readmitted'] = df['readmitted'].replace({'<30': 'YES', '>30': 'NO'})"
   ]
  },
  {
   "cell_type": "code",
   "execution_count": 52,
   "metadata": {},
   "outputs": [],
   "source": [
    "df.dropna(axis=0, how='any', inplace=True)\n"
   ]
  },
  {
   "cell_type": "code",
   "execution_count": null,
   "metadata": {},
   "outputs": [],
   "source": [
    "# Convert target variable to numerical (YES=1, NO=0)\n",
    "df['readmitted'] = df['readmitted'].map({'NO': 0, 'YES': 1})"
   ]
  },
  {
   "cell_type": "code",
   "execution_count": null,
   "metadata": {},
   "outputs": [],
   "source": [
    "df['readmitted']=df['readmitted'].astype('int')"
   ]
  },
  {
   "cell_type": "markdown",
   "metadata": {},
   "source": [
    "changing names of diag_1 to be more specific"
   ]
  },
  {
   "cell_type": "code",
   "execution_count": 183,
   "metadata": {},
   "outputs": [],
   "source": [
    "df['diag_3'] = 'ICD' + df['diag_3']\n",
    "df['diag_2'] = 'ICD' + df['diag_2']\n",
    "df['diag_1'] = 'ICD' + df['diag_1']"
   ]
  },
  {
   "cell_type": "markdown",
   "metadata": {},
   "source": [
    "Choosing a baseline dataset after analysing the Accuracy, precision, re-call, confusion matrix"
   ]
  },
  {
   "cell_type": "code",
   "execution_count": 3,
   "metadata": {},
   "outputs": [],
   "source": [
    "# df_base = pd.read_csv(\"training_data.csv\")"
   ]
  },
  {
   "cell_type": "markdown",
   "metadata": {},
   "source": [
    "Making a copy of the dataframe"
   ]
  },
  {
   "cell_type": "code",
   "execution_count": 188,
   "metadata": {},
   "outputs": [],
   "source": [
    "df_base_1 = df.copy()"
   ]
  },
  {
   "cell_type": "markdown",
   "metadata": {},
   "source": [
    "dropping columns"
   ]
  },
  {
   "cell_type": "code",
   "execution_count": 189,
   "metadata": {},
   "outputs": [
    {
     "data": {
      "text/plain": [
       "Index(['encounter_id', 'patient_nbr', 'race', 'gender', 'admission_type_id',\n",
       "       'discharge_disposition_id', 'admission_source_id', 'time_in_hospital',\n",
       "       'payer_code', 'medical_specialty', 'num_lab_procedures',\n",
       "       'num_procedures', 'num_medications', 'number_outpatient',\n",
       "       'number_emergency', 'number_inpatient', 'diag_1', 'diag_2', 'diag_3',\n",
       "       'number_diagnoses', 'max_glu_serum', 'A1Cresult', 'metformin',\n",
       "       'repaglinide', 'nateglinide', 'chlorpropamide', 'glimepiride',\n",
       "       'acetohexamide', 'glipizide', 'glyburide', 'tolbutamide',\n",
       "       'pioglitazone', 'rosiglitazone', 'acarbose', 'miglitol', 'troglitazone',\n",
       "       'tolazamide', 'examide', 'citoglipton', 'insulin',\n",
       "       'glyburide-metformin', 'glipizide-metformin',\n",
       "       'glimepiride-pioglitazone', 'metformin-rosiglitazone',\n",
       "       'metformin-pioglitazone', 'change', 'diabetesMed', 'readmitted'],\n",
       "      dtype='object')"
      ]
     },
     "execution_count": 189,
     "metadata": {},
     "output_type": "execute_result"
    }
   ],
   "source": [
    "df_base_1.columns"
   ]
  },
  {
   "cell_type": "code",
   "execution_count": 190,
   "metadata": {},
   "outputs": [],
   "source": [
    "columns_to_drop = ['encounter_id','race','gender','admission_source_id','payer_code','num_lab_procedures','diag_2', 'diag_3','max_glu_serum', 'A1Cresult', 'metformin',\n",
    "       'repaglinide', 'nateglinide', 'chlorpropamide', 'glimepiride',\n",
    "       'acetohexamide', 'glipizide', 'glyburide', 'tolbutamide',\n",
    "       'pioglitazone', 'rosiglitazone', 'acarbose', 'miglitol', 'troglitazone',\n",
    "       'tolazamide', 'examide', 'citoglipton', 'insulin',\n",
    "       'glyburide-metformin', 'glipizide-metformin',\n",
    "       'glimepiride-pioglitazone', 'metformin-rosiglitazone',\n",
    "       'metformin-pioglitazone','diabetesMed']"
   ]
  },
  {
   "cell_type": "code",
   "execution_count": 191,
   "metadata": {},
   "outputs": [],
   "source": [
    "df_base_1 = df_base_1.drop(columns_to_drop, axis=1)"
   ]
  },
  {
   "cell_type": "markdown",
   "metadata": {},
   "source": [
    "Converting \"object\" datatype to \"Category\""
   ]
  },
  {
   "cell_type": "code",
   "execution_count": 197,
   "metadata": {},
   "outputs": [],
   "source": [
    "for col in df_base_1.columns:\n",
    "    if df_base_1[col].dtype == 'object':\n",
    "        df_base_1[col] = df_base_1[col].astype('category')"
   ]
  },
  {
   "cell_type": "markdown",
   "metadata": {},
   "source": [
    "saving to csv file"
   ]
  },
  {
   "cell_type": "code",
   "execution_count": 199,
   "metadata": {},
   "outputs": [],
   "source": [
    "df_base_1.to_csv('/Users/sneha/IUPUI-Data_Analytic/project/training_data.csv', index=False)"
   ]
  },
  {
   "cell_type": "code",
   "execution_count": 122,
   "metadata": {},
   "outputs": [
    {
     "data": {
      "text/plain": [
       "(98053, 14)"
      ]
     },
     "execution_count": 122,
     "metadata": {},
     "output_type": "execute_result"
    }
   ],
   "source": [
    "df_base_1.shape"
   ]
  },
  {
   "cell_type": "markdown",
   "metadata": {},
   "source": [
    "Code for choosing the number of data to be trained"
   ]
  },
  {
   "cell_type": "code",
   "execution_count": 2,
   "metadata": {},
   "outputs": [],
   "source": [
    "# # Define how many rows you want to take for each category\n",
    "# take_no = 50000\n",
    "# take_yes = 11066  # take all 11000 'YES'\n",
    "\n",
    "# # Filter the DataFrame based on your criteria\n",
    "# filtered_no = df_base_1[df_base_1['readmitted'] == 0].head(take_no)\n",
    "# filtered_yes = df_base_1[df_base_1['readmitted'] == 1].head(take_yes)\n",
    "\n",
    "# # Concatenate the filtered dataframes back together\n",
    "# filtered_df = pd.concat([filtered_no, filtered_yes])\n",
    "\n",
    "# # Print the first few rows to verify\n",
    "# print(filtered_df.head())\n",
    "\n",
    "# # If you need to reset index after concatenating\n",
    "# filtered_df.reset_index(drop=True, inplace=True)\n"
   ]
  }
 ],
 "metadata": {
  "kernelspec": {
   "display_name": "simple-streamlit",
   "language": "python",
   "name": "python3"
  },
  "language_info": {
   "codemirror_mode": {
    "name": "ipython",
    "version": 3
   },
   "file_extension": ".py",
   "mimetype": "text/x-python",
   "name": "python",
   "nbconvert_exporter": "python",
   "pygments_lexer": "ipython3",
   "version": "3.10.14"
  }
 },
 "nbformat": 4,
 "nbformat_minor": 2
}
